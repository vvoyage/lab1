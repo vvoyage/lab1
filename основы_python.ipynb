{
  "cells": [
    {
      "cell_type": "markdown",
      "metadata": {
        "id": "M-DGa20PaHnu"
      },
      "source": [
        "#Задача 1\n",
        "Написать функцию на вход которой подается строка, состоящая из латинских букв.\n",
        "Функция должна вернуть количество гласных букв (a, e, i, o, u) в этой строке. Написать тесты для кода"
      ]
    },
    {
      "cell_type": "code",
      "execution_count": 45,
      "metadata": {
        "id": "XvX8X_JJ6PCb"
      },
      "outputs": [],
      "source": [
        "def vowel_counter(string):\n",
        "    vowel_letters = {\"a\", \"e\", \"i\", \"o\", \"u\", \"y\", \"A\", \"E\", \"I\", \"O\", \"U\", \"Y\"}\n",
        "    count = []\n",
        "    for letter in string:\n",
        "        if letter in vowel_letters:\n",
        "            count.append(letter)\n",
        "    return len(count)\n",
        "\n",
        "import pytest\n",
        "\n",
        "def test_vowel_counter():\n",
        "    assert vowel_counter(\"Hello, world!\") == 3\n",
        "    assert vowel_counter(\"Python\") == 2\n",
        "    assert vowel_counter(\"klmnscsw\") == 0\n",
        "    assert vowel_counter(\"kLmMMSSnscCCccsw\") == 0\n",
        "    assert vowel_counter(\"aeiouy\") == 6\n",
        "    assert vowel_counter(\"AEIOUY\") == 6\n",
        "    assert vowel_counter(\"aEiOuY\") == 6\n",
        "\n",
        "test_vowel_counter()\n",
        "\n",
        "\n"
      ]
    },
    {
      "cell_type": "markdown",
      "metadata": {
        "id": "t2ClV_Y0bbr6"
      },
      "source": [
        "# Задача 2\n",
        "Написать функцию на вход, которой подается строка. Функция должна вернуть true, если\n",
        "каждый символ в строке встречается только 1 раз, иначе должна вернуть false. Написать тесты для кода"
      ]
    },
    {
      "cell_type": "code",
      "execution_count": 44,
      "metadata": {
        "id": "FppbECao6VIz"
      },
      "outputs": [],
      "source": [
        "def uniq_string(string):\n",
        "    letters = []\n",
        "    uniq_letters = set()\n",
        "    for letter in string:\n",
        "        letters.append(letter)\n",
        "        uniq_letters.add(letter)\n",
        "    if len(letters) == len(uniq_letters):\n",
        "        return True\n",
        "    else:\n",
        "        return False\n",
        "    \n",
        "import pytest\n",
        "\n",
        "def test_uniq_string():\n",
        "    assert uniq_string(\"abcde\") == True\n",
        "    assert uniq_string(\"aabcde\") == False\n",
        "    assert uniq_string(\"aabcdee\") == False\n",
        "    assert uniq_string(\"aAbcdEe\") == True\n",
        "    assert uniq_string(\"aAbcdEeE\") == False\n",
        "\n",
        "test_uniq_string()\n"
      ]
    },
    {
      "cell_type": "markdown",
      "metadata": {
        "id": "udRiIK1cdt6E"
      },
      "source": [
        "# Задача 3\n",
        "Написать функцию, которая принимает положительное число и возвращает количество\n",
        "бит равных 1 в этом числе. Написать тесты для кода"
      ]
    },
    {
      "cell_type": "code",
      "execution_count": 43,
      "metadata": {
        "id": "6tkfDJRz6dp_"
      },
      "outputs": [],
      "source": [
        "def count_bits(n):\n",
        "    count = 0\n",
        "    while n:\n",
        "        count += n & 1 # Проверяем младший бит\n",
        "        n >>= 1        # Сдвигаем вправо\n",
        "    return count\n",
        "\n",
        "import pytest\n",
        "\n",
        "def test_count_bits():\n",
        "    assert count_bits(0) == 0\n",
        "    assert count_bits(1) == 1\n",
        "    assert count_bits(2) == 1\n",
        "    assert count_bits(3) == 2\n",
        "    assert count_bits(4) == 1\n",
        "    assert count_bits(7) == 3\n",
        "    assert count_bits(8) == 1\n",
        "    assert count_bits(15) == 4\n",
        "    assert count_bits(16) == 1\n",
        "    assert count_bits(31) == 5\n",
        "\n",
        "test_count_bits()"
      ]
    },
    {
      "cell_type": "markdown",
      "metadata": {
        "id": "26dDUz-Ae17N"
      },
      "source": [
        "# Задача 4\n",
        "Написать функцию, которая принимает положительное число. Функция должна вернуть то,\n",
        "сколько раз необходимо перемножать цифры числа или результат перемножения, чтобы\n",
        "получилось число состоящее из одной цифры.\n",
        "Например, для входного числа:\n",
        "· 39 функция должна вернуть 3, так как 3*9=27 => 2*7=14 => 1*4=4\n",
        "· 4 функция должна вернуть 0, так как число уже состоит из одной цифры\n",
        "· 999 функция должна вернуть 4, так как 9*9*9=729 => 7*2*9=126 => 1*2*6=12 =>\n",
        "1*2=2. Написать тесты для кода"
      ]
    },
    {
      "cell_type": "code",
      "execution_count": 42,
      "metadata": {
        "id": "BH1A_Mgi6i4G"
      },
      "outputs": [],
      "source": [
        "\n",
        "def magic(n):\n",
        "    if n < 10:\n",
        "        return 0\n",
        "    else:\n",
        "        count = 0\n",
        "        while n >= 10:\n",
        "            digits = [int(d) for d in str(n)]\n",
        "            n = 1\n",
        "            for d in digits:\n",
        "                n *= d\n",
        "            count += 1\n",
        "    return count \n",
        "\n",
        "import pytest\n",
        "\n",
        "def test_magic():\n",
        "    assert magic(39) == 3\n",
        "    assert magic(4) == 0\n",
        "    assert magic(999) == 4\n",
        "    assert magic(1) == 0\n",
        "    assert magic(10) == 1\n",
        "    assert magic(123) == 1\n",
        "    assert magic(9999) == 3\n",
        "\n",
        "test_magic()\n",
        "    "
      ]
    },
    {
      "cell_type": "markdown",
      "metadata": {
        "id": "0nS-kIa8g8vd"
      },
      "source": [
        "# Задача 5\n",
        "Написать функцию, которая принимает два целочисленных вектора одинаковой длины и\n",
        "возвращает среднеквадратическое отклонение двух векторов. Написать тесты для кода"
      ]
    },
    {
      "cell_type": "code",
      "execution_count": 41,
      "metadata": {
        "id": "8iphx4LM6xbx"
      },
      "outputs": [],
      "source": [
        "import math\n",
        "def mse(pred, true):\n",
        "    if len(pred) != len(true):\n",
        "        return \"Длина векторов не равна\"\n",
        "    else:\n",
        "        return math.sqrt(sum((p-t)**2 for p, t in zip(pred, true)) / len(pred))   \n",
        "\n",
        "import pytest\n",
        "\n",
        "def test_mse():\n",
        "    assert mse([1, 2, 3], [1, 2, 3]) == 0\n",
        "    assert mse([1, 2, 3], [2, 3, 4]) == 1\n",
        "    assert mse([0, 0, 0], [1, 1, 1]) == 1\n",
        "    assert mse([1, 2, 3], [3, 2, 1]) == math.sqrt(8/3)\n",
        "    assert mse([2, 4, 6], [1, 3, 5]) == 1\n",
        "\n",
        "test_mse()"
      ]
    },
    {
      "cell_type": "markdown",
      "metadata": {
        "id": "vpIPKL439zkw"
      },
      "source": [
        "# Задача 6\n",
        "Написать функцию, принимающая целое положительное число. Функция должна вернуть\n",
        "строку вида “(n1**p1)(n2**p2)…(nk**pk)” представляющая разложение числа на простые\n",
        "множители (если pi == 1, то выводить только ni).\n",
        "Например, для числа 86240 функция должна вернуть “(2**5)(5)(7**2)(11)”. Написать тесты для кода"
      ]
    },
    {
      "cell_type": "code",
      "execution_count": 40,
      "metadata": {
        "id": "pFebmcZk94Jw"
      },
      "outputs": [],
      "source": [
        "def prime_factors(n):\n",
        "    if n <= 1:\n",
        "        return \"\"\n",
        "    \n",
        "    factors = {}\n",
        "    divisor = 2\n",
        "    \n",
        "    while n > 1:         # Пока число больше 1\n",
        "        while n % divisor == 0:      # Пока текущий делитель делит число без остатка\n",
        "            factors[divisor] = factors.get(divisor, 0) + 1     # Увеличиваем степень этого делителя\n",
        "            n //= divisor     # Делим число на текущий делитель\n",
        "        divisor += 1          # Переходим к следующему делителю\n",
        "        if divisor * divisor > n:      # Если делитель больше корня из n\n",
        "            if n > 1:            # Если осталось число больше 1\n",
        "                factors[n] = 1   # Это последний простой множитель\n",
        "            break\n",
        "    \n",
        "    result = []\n",
        "    for factor, power in sorted(factors.items()):\n",
        "        if power == 1:\n",
        "            result.append(f\"({factor})\")\n",
        "        else:\n",
        "            result.append(f\"({factor}**{power})\")\n",
        "    \n",
        "    return \"\".join(result)\n",
        "\n",
        "import pytest\n",
        "\n",
        "def test_prime_factors():\n",
        "    assert prime_factors(86240) == \"(2**5)(5)(7**2)(11)\"\n",
        "    assert prime_factors(1) == \"\"\n",
        "    assert prime_factors(2) == \"(2)\"\n",
        "    assert prime_factors(4) == \"(2**2)\"\n",
        "    assert prime_factors(6) == \"(2)(3)\"\n",
        "    assert prime_factors(8) == \"(2**3)\"\n",
        "    assert prime_factors(9) == \"(3**2)\"\n",
        "    assert prime_factors(12) == \"(2**2)(3)\"\n",
        "    assert prime_factors(16) == \"(2**4)\"\n",
        "    assert prime_factors(100) == \"(2**2)(5**2)\"\n",
        "\n",
        "test_prime_factors()"
      ]
    },
    {
      "cell_type": "markdown",
      "metadata": {
        "id": "ps2s0BudX7A2"
      },
      "source": [
        "# Задача 7\n",
        "Написать функцию, принимающая целое число n, задающее количество кубиков. Функция\n",
        "должна определить, можно ли из данного кол-ва кубиков построить пирамиду, то есть\n",
        "можно ли представить число n как 1^2+2^2+3^2+…+k^2. Если можно, то функция должна\n",
        "вернуть k, иначе строку “It is impossible”. Написать тесты для кода"
      ]
    },
    {
      "cell_type": "code",
      "execution_count": 39,
      "metadata": {
        "id": "3YPjEXxhX_YT"
      },
      "outputs": [],
      "source": [
        "def pyramid(number):\n",
        "    if number <= 0:\n",
        "        return \"It is impossible\"\n",
        "    \n",
        "    else:\n",
        "        k = 1\n",
        "        sum_squares = 0\n",
        "        \n",
        "        while sum_squares < number:\n",
        "            sum_squares += k ** 2\n",
        "            if sum_squares == number:\n",
        "                return k\n",
        "            k += 1\n",
        "        return \"It is impossible\"\n",
        "\n",
        "import pytest\n",
        "\n",
        "def test_pyramid():\n",
        "    assert pyramid(1) == 1\n",
        "    assert pyramid(5) == 2\n",
        "    assert pyramid(14) == 3\n",
        "    assert pyramid(30) == 4\n",
        "    assert pyramid(55) == 5\n",
        "    assert pyramid(91) == 6\n",
        "    assert pyramid(2) == \"It is impossible\"\n",
        "    assert pyramid(3) == \"It is impossible\"\n",
        "    assert pyramid(4) == \"It is impossible\"\n",
        "    assert pyramid(6) == \"It is impossible\"\n",
        "    assert pyramid(7) == \"It is impossible\"\n",
        "    assert pyramid(8) == \"It is impossible\"\n",
        "    assert pyramid(9) == \"It is impossible\"\n",
        "    assert pyramid(10) == \"It is impossible\"\n",
        "    assert pyramid(11) == \"It is impossible\"\n",
        "    assert pyramid(12) == \"It is impossible\"\n",
        "    assert pyramid(13) == \"It is impossible\"\n",
        "    assert pyramid(15) == \"It is impossible\"\n",
        "    assert pyramid(0) == \"It is impossible\"\n",
        "    assert pyramid(-1) == \"It is impossible\"\n",
        "\n",
        "test_pyramid()\n",
        "    \n",
        "    "
      ]
    },
    {
      "cell_type": "markdown",
      "metadata": {
        "id": "KeKgmIdAQMEJ"
      },
      "source": [
        "# Задача 8\n",
        "Функция принимает на вход положительное число и определяет является ли оно сбалансированным, т.е. сумма цифр до средних равна сумме цифр после. Средними в случае нечетного числа цифр считать одну цифру, в случае четного - две средних. Написать тесты для кода"
      ]
    },
    {
      "cell_type": "code",
      "execution_count": 38,
      "metadata": {
        "id": "gMAAqtqlQrZt"
      },
      "outputs": [],
      "source": [
        "def is_balanced(n):\n",
        "    digits = [int(d) for d in str(n)]\n",
        "    length = len(digits)\n",
        "    \n",
        "    if length <= 2:\n",
        "        return True\n",
        "        \n",
        "    \n",
        "    if length % 2 == 0:  \n",
        "        mid1 = length // 2 - 1\n",
        "        mid2 = length // 2\n",
        "        left_sum = sum(digits[:mid1])\n",
        "        right_sum = sum(digits[mid2+1:])\n",
        "    else:  \n",
        "        mid = length // 2\n",
        "        left_sum = sum(digits[:mid])\n",
        "        right_sum = sum(digits[mid+1:])\n",
        "    \n",
        "    return left_sum == right_sum\n",
        "\n",
        "def test_is_balanced():\n",
        "    assert is_balanced(1) == True\n",
        "    assert is_balanced(11) == True\n",
        "    assert is_balanced(121) == True\n",
        "    assert is_balanced(12321) == True\n",
        "    assert is_balanced(123321) == True\n",
        "    assert is_balanced(1234321) == True\n",
        "    \n",
        "    assert is_balanced(12) == True\n",
        "    assert is_balanced(123) == False\n",
        "    assert is_balanced(1234) == False\n",
        "    assert is_balanced(12345) == False\n",
        "    assert is_balanced(123456) == False\n",
        "    assert is_balanced(1234567) == False\n",
        "    \n",
        "    \n",
        "    assert is_balanced(1234) == False  \n",
        "    assert is_balanced(12345) == False  \n",
        "    assert is_balanced(123456) == False  \n",
        "    assert is_balanced(1234567) == False  \n",
        "    \n",
        "import pytest\n",
        "\n",
        "test_is_balanced()"
      ]
    }
  ],
  "metadata": {
    "colab": {
      "provenance": []
    },
    "kernelspec": {
      "display_name": "Python 3",
      "name": "python3"
    },
    "language_info": {
      "codemirror_mode": {
        "name": "ipython",
        "version": 3
      },
      "file_extension": ".py",
      "mimetype": "text/x-python",
      "name": "python",
      "nbconvert_exporter": "python",
      "pygments_lexer": "ipython3",
      "version": "3.13.2"
    }
  },
  "nbformat": 4,
  "nbformat_minor": 0
}
